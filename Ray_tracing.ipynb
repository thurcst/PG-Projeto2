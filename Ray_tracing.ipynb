{
 "cells": [
  {
   "cell_type": "code",
   "execution_count": 125,
   "metadata": {},
   "outputs": [],
   "source": [
    "import numpy as np\n",
    "import json\n",
    "import os\n",
    "\n",
    "from pprint import pprint"
   ]
  },
  {
   "cell_type": "markdown",
   "metadata": {},
   "source": [
    "## Primeira etapa"
   ]
  },
  {
   "cell_type": "markdown",
   "metadata": {},
   "source": [
    "Criando entidades"
   ]
  },
  {
   "cell_type": "code",
   "execution_count": 168,
   "metadata": {},
   "outputs": [],
   "source": [
    "# Formato 1 - Definições separadas\n",
    "\n",
    "class Triangulo():\n",
    "    def __init__(self, positions, color) -> None:\n",
    "        self.positions = np.array(positions)\n",
    "        self.color = np.array(color)\n",
    "\n",
    "class Esfera():\n",
    "    def __init__(self, radius, center, color) -> None:\n",
    "        self.radius = radius\n",
    "        self.color = np.array(color)\n",
    "        self.center = np.array(center)\n",
    "\n",
    "class Plano():\n",
    "    def __init__(self, sample, normal, color) -> None:\n",
    "        self.sample = np.array(sample)\n",
    "        self.color = np.array(color)\n",
    "        self.normal = np.array(normal)\n",
    "\n",
    "# Formato 2 - Definição isomorfica\n",
    "\n",
    "class Objeto():\n",
    "    def __init__(self, color, form, props) -> None:\n",
    "        self.color = color\n",
    "        self.form = form\n",
    "        \n",
    "        if form == 'plane':\n",
    "            self.sample = np.array(props['sample'])\n",
    "            self.normal = np.array(props['normal'])\n",
    "\n",
    "        elif form == 'sphere':\n",
    "            self.radius = props['radius']\n",
    "            self.center = np.array(props['center'])\n",
    "\n",
    "        elif form == 'triangle':\n",
    "            self.positions = np.array(props['positions'])"
   ]
  },
  {
   "cell_type": "markdown",
   "metadata": {},
   "source": [
    "Lendo parâmetros das imagens"
   ]
  },
  {
   "cell_type": "code",
   "execution_count": 169,
   "metadata": {},
   "outputs": [],
   "source": [
    "path = \"./objetos\"\n",
    "\n",
    "cenas = []\n",
    "\n",
    "for filename in os.listdir(path):\n",
    "    f = os.path.join(path, filename)\n",
    "    if os.path.isfile(f):\n",
    "        file = open(f)\n",
    "        text = json.load(file)\n",
    "        cenas.append(text)\n",
    "        file.close()\n"
   ]
  },
  {
   "cell_type": "code",
   "execution_count": 170,
   "metadata": {},
   "outputs": [],
   "source": [
    "cena = cenas[0]"
   ]
  },
  {
   "cell_type": "code",
   "execution_count": 179,
   "metadata": {},
   "outputs": [],
   "source": [
    "for element in cena['objects']:\n",
    "    form = list(element.keys())[1]\n",
    "    isomorph = Objeto(element['color'], form, element[form])\n",
    "\n",
    "    # if 'plane' in element.keys():\n",
    "    #     obj = Plano(element['plane']['sample'], element['plane']['normal'], element['color'])\n",
    "        "
   ]
  },
  {
   "cell_type": "markdown",
   "metadata": {},
   "source": [
    "Definindo parâmetros fixos"
   ]
  },
  {
   "cell_type": "code",
   "execution_count": 154,
   "metadata": {},
   "outputs": [],
   "source": [
    "up = np.array(cena['up'])\n",
    "e = np.array(cena['eye'])\n",
    "l = np.array(cena['look_at'])"
   ]
  },
  {
   "cell_type": "code",
   "execution_count": 155,
   "metadata": {},
   "outputs": [],
   "source": [
    "w = (e-l)/np.linalg.norm(e-l)\n",
    "vec_prod = np.cross(up, w)\n",
    "u = (vec_prod)/(np.linalg.norm(vec_prod))\n",
    "v = np.cross(w, u)\n",
    "\n",
    "v_res = cena['v_res']\n",
    "h_res = cena['h_res']\n",
    "d = cena['dist']\n",
    "s = cena['square_side']"
   ]
  },
  {
   "cell_type": "markdown",
   "metadata": {},
   "source": [
    "## Segunda etapa\n"
   ]
  },
  {
   "cell_type": "markdown",
   "metadata": {},
   "source": [
    "Ray-Casting\n"
   ]
  },
  {
   "cell_type": "code",
   "execution_count": 141,
   "metadata": {},
   "outputs": [],
   "source": [
    "def move_to_pixel(i, j, Q00):\n",
    "    Qij = Q00 + (s * j * u ) - (s * i * v)\n",
    "    return Qij"
   ]
  },
  {
   "cell_type": "code",
   "execution_count": 147,
   "metadata": {},
   "outputs": [],
   "source": [
    "c = e - w*d\n",
    "Q00 = c + (0.5 * s * (v_res-1) * v) - (0.5 * s * (h_res-1) * u)\n"
   ]
  },
  {
   "cell_type": "code",
   "execution_count": 103,
   "metadata": {},
   "outputs": [],
   "source": [
    "class Obj:\n",
    "    def __init__(self, points):\n",
    "        self.points = np.array(points)\n",
    "    \n",
    "    @classmethod\n",
    "    def intersect():\n",
    "        return 2"
   ]
  }
 ],
 "metadata": {
  "kernelspec": {
   "display_name": "Python 3.9.12 ('base')",
   "language": "python",
   "name": "python3"
  },
  "language_info": {
   "codemirror_mode": {
    "name": "ipython",
    "version": 3
   },
   "file_extension": ".py",
   "mimetype": "text/x-python",
   "name": "python",
   "nbconvert_exporter": "python",
   "pygments_lexer": "ipython3",
   "version": "3.9.12"
  },
  "orig_nbformat": 4,
  "vscode": {
   "interpreter": {
    "hash": "e38bdacfe1d6e2b7e20a64d2eef782d7715e4314dc541be72f500d3c69b94a4f"
   }
  }
 },
 "nbformat": 4,
 "nbformat_minor": 2
}
