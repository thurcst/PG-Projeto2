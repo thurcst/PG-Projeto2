{
 "cells": [
  {
   "cell_type": "markdown",
   "metadata": {},
   "source": [
    "# Projeto Ray-Tracing (pt.1)"
   ]
  },
  {
   "cell_type": "markdown",
   "metadata": {},
   "source": [
    "Libs utilizadas:"
   ]
  },
  {
   "cell_type": "code",
   "execution_count": 2,
   "metadata": {},
   "outputs": [],
   "source": [
    "import matplotlib.pyplot as plt\n",
    "import numpy as np\n",
    "import math\n",
    "import json\n",
    "import os\n",
    "\n",
    "# Esta lib é apenas para acompanhar o processamento\n",
    "# ela mostrará a % do processo, melhorando a visibilidade\n",
    "# do que está acontecendo no fundo\n",
    "\n",
    "from tqdm import tqdm"
   ]
  },
  {
   "cell_type": "markdown",
   "metadata": {},
   "source": [
    "### 1 Versão:\n",
    "\n",
    "- [x] Câmera variando posição e orientação\n",
    "- [x] Raios primários em perspectiva\n",
    "- [x] Interseção raio-Esfera\n",
    "- [x] Interseção raio-plano\n",
    "- [x] Interseção raio-triangulo\n",
    "- [x] Encontrar objeto mais a frente"
   ]
  },
  {
   "cell_type": "markdown",
   "metadata": {},
   "source": [
    "Fazer aparecer apenas os contornos do objeto, sem _shading_."
   ]
  },
  {
   "cell_type": "markdown",
   "metadata": {},
   "source": [
    "Primeiro vamos as definições das formas geométricas:"
   ]
  },
  {
   "cell_type": "code",
   "execution_count": 3,
   "metadata": {},
   "outputs": [],
   "source": [
    "class Triangulo:\n",
    "    \"\"\"Classe que representa um triângulo\n",
    "    \"\"\"\n",
    "\n",
    "    def __init__(self, positions, color) -> None:\n",
    "        self.positions = np.array(positions)\n",
    "        self.cor = np.array(color)\n",
    "\n",
    "    def intersect(self, ray_origin, ray_dir):\n",
    "        \"\"\"Calcula se há, e a interseção de um raio no triangulo\n",
    "\n",
    "        fonte: https://www.scratchapixel.com/lessons/3d-basic-rendering/ray-tracing-rendering-a-triangle/ray-triangle-intersection-geometric-solution\n",
    "\n",
    "        Args:\n",
    "            ray_origin (list): ponto de origem\n",
    "            ray_dir (list): vetor de direção\n",
    "\n",
    "        Returns:\n",
    "            t: ponto onde o raio é intercectado\n",
    "        \"\"\"\n",
    "\n",
    "        v0v1 = self.positions[1] - self.positions[0]\n",
    "        v0v2 = self.positions[2] - self.positions[0]\n",
    "\n",
    "        e = 10 ** (-6)  # constante para evitar erros de calculo\n",
    "\n",
    "        n = np.cross(v0v1, v0v2)\n",
    "\n",
    "        NdotRayDirection = np.dot(n, ray_dir)\n",
    "\n",
    "        if abs(NdotRayDirection) < e:\n",
    "            return\n",
    "\n",
    "        d = -np.dot(n, self.positions[0])\n",
    "        t = -(np.dot(n, ray_origin) + d) / NdotRayDirection\n",
    "\n",
    "        if t < 0:\n",
    "            return\n",
    "\n",
    "        p = ray_origin + t * ray_dir\n",
    "\n",
    "        # Testaremos cada uma das pontas\n",
    "\n",
    "        edge0 = self.positions[1] - self.positions[0]\n",
    "        vp0 = p - self.positions[0]\n",
    "        c = np.cross(edge0, vp0)\n",
    "\n",
    "        if np.dot(n, c) < 0:\n",
    "            return\n",
    "\n",
    "        edge1 = self.positions[2] - self.positions[1]\n",
    "        vp1 = p - self.positions[1]\n",
    "        c = np.cross(edge1, vp1)\n",
    "\n",
    "        if np.dot(n, c) < 0:\n",
    "            return\n",
    "\n",
    "        edge2 = self.positions[0] - self.positions[2]\n",
    "        vp2 = p - self.positions[2]\n",
    "        c = np.cross(edge2, vp2)\n",
    "\n",
    "        if np.dot(n, c) < 0:\n",
    "            return\n",
    "        else:\n",
    "            return t\n",
    "\n",
    "    def get_normal(self, point_on_object=None):\n",
    "        print(\"normalizing triangle\")\n",
    "        a = self.positions[1] - self.positions[0]\n",
    "        b = self.positions[2] - self.positions[1]\n",
    "        normal = np.cross(a, b)\n",
    "        norm = np.linalg.norm(normal)\n",
    "        return normal / norm\n"
   ]
  },
  {
   "cell_type": "code",
   "execution_count": 4,
   "metadata": {},
   "outputs": [],
   "source": [
    "class Plano:\n",
    "    \"\"\"Classe responsável por representar um Plano\n",
    "    \"\"\"\n",
    "\n",
    "    def __init__(self, sample, normal, color) -> None:\n",
    "        self.sample = np.array(sample)\n",
    "        self.normal = np.array(normal)\n",
    "        self.cor = color\n",
    "\n",
    "    def intersect(self, ray_origin, ray_dir):\n",
    "        \"\"\"Retorna o ponto onde o ponto é intersectado\n",
    "\n",
    "        fonte: https://www.scratchapixel.com/lessons/3d-basic-rendering/minimal-ray-tracer-rendering-simple-shapes/ray-plane-and-ray-disk-intersection\n",
    "\n",
    "        Args:\n",
    "            ray_origin (list): ponto de origem\n",
    "            ray_dir (list): vetor de direção\n",
    "\n",
    "        Returns:\n",
    "            t: ponto onde o raio é intercectado\n",
    "        \"\"\"\n",
    "        t = math.inf\n",
    "        den = np.inner(ray_dir, self.normal)\n",
    "\n",
    "        e = 10 ** (-6)  # constante para evitar erros de calculo\n",
    "\n",
    "        if abs(den) > e:\n",
    "            t = np.inner((self.sample - ray_origin), self.normal) / den\n",
    "            if t < 0:\n",
    "                # Raio não intersecta o plano\n",
    "                return\n",
    "            else:\n",
    "                return t\n",
    "        else:\n",
    "            # Inner product between ray_dir and normal_vector too low\n",
    "            return\n",
    "\n",
    "    def get_normal(self, point_on_object=None):\n",
    "        \"\"\"Retorna a normal normalizada\n",
    "\n",
    "        Args:\n",
    "            point_on_object (list, optional): ponto no objeto. Defaults to None.\n",
    "\n",
    "        Returns:\n",
    "            list: normal\n",
    "        \"\"\"\n",
    "        norm = np.linalg.norm(self.normal)\n",
    "        return self.normal / norm"
   ]
  },
  {
   "cell_type": "code",
   "execution_count": 5,
   "metadata": {},
   "outputs": [],
   "source": [
    "class Esfera:\n",
    "    def __init__(self, centro, raioCircuferencia, cor):\n",
    "        self.centro = centro\n",
    "        self.raioCircuferencia = raioCircuferencia\n",
    "        self.cor = np.array(cor)\n",
    "\n",
    "    def intersect(self, ray_origin, ray_dir):\n",
    "        \"\"\"\n",
    "        fonte: https://www.scratchapixel.com/lessons/3d-basic-rendering/minimal-ray-tracer-rendering-simple-shapes/ray-plane-and-ray-disk-intersection\n",
    "        \"\"\"\n",
    "        \n",
    "        l = self.centro - ray_origin\n",
    "        t_ca = np.inner(l, ray_dir)\n",
    "\n",
    "        inner = np.inner(l, l)\n",
    "\n",
    "        d_2 = (inner) - (t_ca) ** 2\n",
    "\n",
    "        if d_2 > (self.raioCircuferencia) ** 2:\n",
    "            # Raio nao intersecta a esfera\n",
    "            return\n",
    "        else:\n",
    "            t_hc = math.sqrt(self.raioCircuferencia ** 2 - d_2)\n",
    "            t0 = t_ca - t_hc\n",
    "            t1 = t_ca + t_hc\n",
    "            if t0 > t1:\n",
    "                t0, t1 = t1, t0\n",
    "            if t0 < 0:\n",
    "                if t1 < 0:\n",
    "                    # Off-sColor_reen intersection with sphere\n",
    "                    return None\n",
    "                else:\n",
    "                    return t1\n",
    "\n",
    "            return t0\n",
    "\n",
    "    def get_normal(self, point_on_object):\n",
    "        center = self.centro\n",
    "        center_to_point_vec = (point_on_object) - center\n",
    "        norm = np.linalg.norm(center_to_point_vec)\n",
    "        return center_to_point_vec / norm"
   ]
  },
  {
   "cell_type": "markdown",
   "metadata": {},
   "source": [
    "Definimos então as entidades de Cena e motor gráfico (engine) responsáveis por armazenar as informações de ambiente:"
   ]
  },
  {
   "cell_type": "code",
   "execution_count": 6,
   "metadata": {},
   "outputs": [],
   "source": [
    "# A classe cena possui todos os elementos recebidos a partir do JSON de leitura de cena\n",
    "class Cena:\n",
    "    def __init__(\n",
    "        self,\n",
    "        objetos,\n",
    "        largura,\n",
    "        altura,\n",
    "        w,\n",
    "        u,\n",
    "        v,\n",
    "        q00,\n",
    "        vec_prod,\n",
    "        tamanho_pixel,\n",
    "        foco,\n",
    "        distancia_focal,\n",
    "    ):\n",
    "        self.objetos = objetos\n",
    "        self.largura = largura\n",
    "        self.altura = altura\n",
    "        self.w = w\n",
    "        self.u = u\n",
    "        self.v = v\n",
    "        self.q00 = q00\n",
    "        self.vec_prod = vec_prod\n",
    "        self.tamanho_pixel = tamanho_pixel\n",
    "        self.foco = foco\n",
    "        self.distancia_focal = distancia_focal"
   ]
  },
  {
   "cell_type": "code",
   "execution_count": 7,
   "metadata": {},
   "outputs": [],
   "source": [
    "# A classe RenderEngine é o motor de renderizamento do nosso projeto, aqui são feitos todos os calculos relacionados as imagens\n",
    "class RenderEngine:\n",
    "    def render(self, cena: Cena, background_color):\n",
    "        # Criada uma imagem base totalmente preta (preenchida por RGB(0,0,0))\n",
    "        image = np.zeros((cena.altura, cena.largura, 3), dtype=np.uint8)\n",
    "\n",
    "        # Criacao da base ortonormal {u,v,w}\n",
    "        w = cena.w\n",
    "        u = cena.u\n",
    "        v = cena.v\n",
    "\n",
    "        # Lancamento dos raios\n",
    "        q_00 = cena.q00\n",
    "\n",
    "        # Passamos de pixel em pixel definindo a cor \n",
    "        for i in tqdm(range(cena.altura)):\n",
    "            for j in range(cena.largura):\n",
    "                q_ij = q_00 + cena.tamanho_pixel * (j * u - i * v)\n",
    "                dir_ray = (q_ij - cena.foco) / np.linalg.norm(q_ij - cena.foco)\n",
    "                image[i][j] = self.cast(cena, dir_ray, background_color)\n",
    "        return image\n",
    "\n",
    "    def trace(self, E, dir_ray, cena):\n",
    "        s = []\n",
    "        for obj in cena.objetos:\n",
    "            t = obj.intersect(E, dir_ray)\n",
    "            if t:\n",
    "                s.append((t, obj))\n",
    "        return s\n",
    "\n",
    "    # Ray-Casting\n",
    "    def cast(self, cena, dir_ray, background_color):\n",
    "        E = cena.foco\n",
    "        c = background_color\n",
    "        S = self.trace(E, dir_ray, cena)\n",
    "\n",
    "        if S:\n",
    "            closest_t = math.inf\n",
    "            closest_obj = None\n",
    "\n",
    "            for t_obj in S:\n",
    "                if t_obj[0] < closest_t:\n",
    "                    closest_t = t_obj[0]\n",
    "                    closest_obj = t_obj[1]\n",
    "                    c = closest_obj.cor\n",
    "        return c\n"
   ]
  },
  {
   "cell_type": "markdown",
   "metadata": {},
   "source": [
    "Com essa estrutura, conseguimos fazer todo o processamento necessário para a primeira versão do projeto"
   ]
  },
  {
   "cell_type": "markdown",
   "metadata": {},
   "source": [
    "Agora faremos a leitura da cena e calculos necessários:"
   ]
  },
  {
   "cell_type": "code",
   "execution_count": 8,
   "metadata": {},
   "outputs": [],
   "source": [
    "def read_objects(cena):\n",
    "\n",
    "    objetos = []\n",
    "\n",
    "    # iterar sobre os objetos da cena, criando cada um deles\n",
    "    # usando as classes por nós definidas\n",
    "    for element in cena[\"objects\"]:\n",
    "        keys = list(element.keys())\n",
    "\n",
    "        if \"sphere\" in keys:\n",
    "            form = \"sphere\"\n",
    "        elif \"plane\" in keys:\n",
    "            form = \"plane\"\n",
    "        elif \"triangle\" in keys:\n",
    "            form = \"triangle\"\n",
    "\n",
    "        props = element[form]\n",
    "\n",
    "        # Criamos baseado no nome dentro do objeto json\n",
    "\n",
    "        if form == \"sphere\":\n",
    "            obj = Esfera(np.array(props[\"center\"]), props[\"radius\"], np.array(element[\"color\"]),)\n",
    "\n",
    "        elif form == \"plane\":\n",
    "            obj = Plano(\n",
    "                np.array(props[\"sample\"]), np.array(props[\"normal\"]), np.array(element[\"color\"]),\n",
    "            )\n",
    "\n",
    "        elif form == \"triangle\":\n",
    "            obj = Triangulo(np.array(props), element[\"color\"])\n",
    "\n",
    "        objetos.append(obj)\n",
    "\n",
    "    return objetos\n"
   ]
  },
  {
   "cell_type": "code",
   "execution_count": 9,
   "metadata": {},
   "outputs": [],
   "source": [
    "def build_scene(objetos, cena):\n",
    "\n",
    "    # Constantes tiradas a partir do JSON\n",
    "\n",
    "    altura = cena.get(\"v_res\", 0)\n",
    "    largura = cena.get(\"h_res\", 0)\n",
    "    distancia = cena.get(\"dist\", 0)\n",
    "    tamanho_pixel = cena.get(\"square_side\", 0)\n",
    "    bc = cena.get(\"background_color\", 0)\n",
    "    up = np.array(cena.get(\"up\", 0))\n",
    "    foco = np.array(cena.get(\"eye\", 0))\n",
    "    distancia_focal = np.array(cena.get(\"look_at\", 0))\n",
    "\n",
    "    # Instância da classe Cor, pra facilitar integração com outros arquivos\n",
    "    background_color = np.array(bc)\n",
    "\n",
    "    # Constantes - aqui começa o processamento e a aplicação de funções de PG\n",
    "\n",
    "    w = (foco - distancia_focal) / np.linalg.norm(foco - distancia_focal)\n",
    "    vec_prod = np.cross(up, w)\n",
    "\n",
    "    u = (vec_prod) / (np.linalg.norm(vec_prod))\n",
    "    v = np.cross(w, u)\n",
    "\n",
    "    q00 = (\n",
    "        foco\n",
    "        - distancia * w\n",
    "        + tamanho_pixel * (((altura - 1) / 2) * v - ((largura - 1) / 2) * u)\n",
    "    )\n",
    "\n",
    "    # Montar a Cena\n",
    "    cena = Cena(\n",
    "        objetos,\n",
    "        largura,\n",
    "        altura,\n",
    "        w,\n",
    "        u,\n",
    "        v,\n",
    "        q00,\n",
    "        vec_prod,\n",
    "        tamanho_pixel,\n",
    "        foco,\n",
    "        distancia_focal,\n",
    "    )\n",
    "\n",
    "    return cena, background_color\n",
    "\n"
   ]
  },
  {
   "cell_type": "code",
   "execution_count": 16,
   "metadata": {},
   "outputs": [],
   "source": [
    "def read_files(scene_name: str):\n",
    "    cenas = []\n",
    "\n",
    "    path = 'RayTracing1/primeira_versao/objetos/'\n",
    "\n",
    "    # Leitura do arquivo scene_name dentro do caminho\n",
    "\n",
    "    for filename in os.listdir(path):\n",
    "        if filename == scene_name:\n",
    "            f = os.path.join(path, filename)\n",
    "            if os.path.isfile(f):\n",
    "                file = open(f)\n",
    "                text = json.load(file)\n",
    "                cenas.append(text)\n",
    "                file.close()\n",
    "\n",
    "    # Pegamos apenas a cena lida primeiro (caso de nomes duplicados)\n",
    "    cena = cenas[0]\n",
    "\n",
    "    return cena\n"
   ]
  },
  {
   "cell_type": "markdown",
   "metadata": {},
   "source": [
    "Função para automatizar o processo de leitura:"
   ]
  },
  {
   "cell_type": "code",
   "execution_count": 17,
   "metadata": {},
   "outputs": [],
   "source": [
    "def start_loading(filename: str):\n",
    "    contexto = read_files(filename)\n",
    "    objetos = read_objects(contexto)\n",
    "\n",
    "    scene, background_color = build_scene(objetos, contexto)\n",
    "\n",
    "    engine = RenderEngine()\n",
    "    imagem = engine.render(scene, background_color)\n",
    "\n",
    "    plt.imshow(imagem)\n",
    "    plt.show()"
   ]
  },
  {
   "cell_type": "markdown",
   "metadata": {},
   "source": [
    "Próxima célula irá executar o render de todas as cenas dentro do diretorio `primeira_versao/objetos` em ordem de complexidade, da mais rápida pra mais demorada."
   ]
  },
  {
   "cell_type": "code",
   "execution_count": 20,
   "metadata": {},
   "outputs": [
    {
     "name": "stderr",
     "output_type": "stream",
     "text": [
      "100%|██████████| 480/480 [00:05<00:00, 86.27it/s]\n"
     ]
    },
    {
     "data": {
      "image/png": "[encoded data removed]",
      "text/plain": [
       "<Figure size 432x288 with 1 Axes>"
      ]
     },
     "metadata": {
      "needs_background": "light"
     },
     "output_type": "display_data"
    },
    {
     "name": "stderr",
     "output_type": "stream",
     "text": [
      "100%|██████████| 480/480 [00:03<00:00, 127.73it/s]\n"
     ]
    },
    {
     "data": {
      "image/png": "[encoded data removed]",
      "text/plain": [
       "<Figure size 432x288 with 1 Axes>"
      ]
     },
     "metadata": {
      "needs_background": "light"
     },
     "output_type": "display_data"
    },
    {
     "name": "stderr",
     "output_type": "stream",
     "text": [
      "100%|██████████| 480/480 [00:05<00:00, 88.53it/s]\n"
     ]
    },
    {
     "data": {
      "image/png": "[encoded data removed]",
      "text/plain": [
       "<Figure size 432x288 with 1 Axes>"
      ]
     },
     "metadata": {
      "needs_background": "light"
     },
     "output_type": "display_data"
    },
    {
     "name": "stderr",
     "output_type": "stream",
     "text": [
      "100%|██████████| 480/480 [00:03<00:00, 126.26it/s]\n"
     ]
    },
    {
     "data": {
      "image/png": "[encoded data removed]",
      "text/plain": [
       "<Figure size 432x288 with 1 Axes>"
      ]
     },
     "metadata": {
      "needs_background": "light"
     },
     "output_type": "display_data"
    },
    {
     "name": "stderr",
     "output_type": "stream",
     "text": [
      " 14%|█▍        | 67/480 [00:43<04:29,  1.53it/s]\n"
     ]
    },
    {
     "ename": "KeyboardInterrupt",
     "evalue": "",
     "output_type": "error",
     "traceback": [
      "\u001b[0;31m---------------------------------------------------------------------------\u001b[0m",
      "\u001b[0;31mKeyboardInterrupt\u001b[0m                         Traceback (most recent call last)",
      "\u001b[1;32m/home/costa/Documentos/Faculdade/PG-Projeto2/RT1.ipynb Cell 21\u001b[0m in \u001b[0;36m<cell line: 11>\u001b[0;34m()\u001b[0m\n\u001b[1;32m      <a href='vscode-notebook-cell:/home/costa/Documentos/Faculdade/PG-Projeto2/RT1.ipynb#X26sZmlsZQ%3D%3D?line=4'>5</a>\u001b[0m \u001b[39m# Os objetos 'suzanne.json', 'icosaedro.json' levariam mais de 20h de processamento se somados\u001b[39;00m\n\u001b[1;32m      <a href='vscode-notebook-cell:/home/costa/Documentos/Faculdade/PG-Projeto2/RT1.ipynb#X26sZmlsZQ%3D%3D?line=5'>6</a>\u001b[0m \u001b[39m# Isso inviabiliza o plot pois eu uso o computador para trabalho e outras atividades\u001b[39;00m\n\u001b[1;32m      <a href='vscode-notebook-cell:/home/costa/Documentos/Faculdade/PG-Projeto2/RT1.ipynb#X26sZmlsZQ%3D%3D?line=6'>7</a>\u001b[0m \u001b[39m# Se houver uma máquina com maior processamento, podem utilizá-la para o plot\u001b[39;00m\n\u001b[1;32m      <a href='vscode-notebook-cell:/home/costa/Documentos/Faculdade/PG-Projeto2/RT1.ipynb#X26sZmlsZQ%3D%3D?line=7'>8</a>\u001b[0m \n\u001b[1;32m      <a href='vscode-notebook-cell:/home/costa/Documentos/Faculdade/PG-Projeto2/RT1.ipynb#X26sZmlsZQ%3D%3D?line=8'>9</a>\u001b[0m \u001b[39m# Leitura do arquivo scene_name dentro do caminho\u001b[39;00m\n\u001b[1;32m     <a href='vscode-notebook-cell:/home/costa/Documentos/Faculdade/PG-Projeto2/RT1.ipynb#X26sZmlsZQ%3D%3D?line=10'>11</a>\u001b[0m \u001b[39mfor\u001b[39;00m filename \u001b[39min\u001b[39;00m files:\n\u001b[0;32m---> <a href='vscode-notebook-cell:/home/costa/Documentos/Faculdade/PG-Projeto2/RT1.ipynb#X26sZmlsZQ%3D%3D?line=11'>12</a>\u001b[0m         start_loading(filename)\n",
      "\u001b[1;32m/home/costa/Documentos/Faculdade/PG-Projeto2/RT1.ipynb Cell 21\u001b[0m in \u001b[0;36mstart_loading\u001b[0;34m(filename)\u001b[0m\n\u001b[1;32m      <a href='vscode-notebook-cell:/home/costa/Documentos/Faculdade/PG-Projeto2/RT1.ipynb#X26sZmlsZQ%3D%3D?line=4'>5</a>\u001b[0m scene, background_color \u001b[39m=\u001b[39m build_scene(objetos, contexto)\n\u001b[1;32m      <a href='vscode-notebook-cell:/home/costa/Documentos/Faculdade/PG-Projeto2/RT1.ipynb#X26sZmlsZQ%3D%3D?line=6'>7</a>\u001b[0m engine \u001b[39m=\u001b[39m RenderEngine()\n\u001b[0;32m----> <a href='vscode-notebook-cell:/home/costa/Documentos/Faculdade/PG-Projeto2/RT1.ipynb#X26sZmlsZQ%3D%3D?line=7'>8</a>\u001b[0m imagem \u001b[39m=\u001b[39m engine\u001b[39m.\u001b[39;49mrender(scene, background_color)\n\u001b[1;32m     <a href='vscode-notebook-cell:/home/costa/Documentos/Faculdade/PG-Projeto2/RT1.ipynb#X26sZmlsZQ%3D%3D?line=9'>10</a>\u001b[0m plt\u001b[39m.\u001b[39mimshow(imagem)\n\u001b[1;32m     <a href='vscode-notebook-cell:/home/costa/Documentos/Faculdade/PG-Projeto2/RT1.ipynb#X26sZmlsZQ%3D%3D?line=10'>11</a>\u001b[0m plt\u001b[39m.\u001b[39mshow()\n",
      "\u001b[1;32m/home/costa/Documentos/Faculdade/PG-Projeto2/RT1.ipynb Cell 21\u001b[0m in \u001b[0;36mRenderEngine.render\u001b[0;34m(self, cena, background_color)\u001b[0m\n\u001b[1;32m     <a href='vscode-notebook-cell:/home/costa/Documentos/Faculdade/PG-Projeto2/RT1.ipynb#X26sZmlsZQ%3D%3D?line=17'>18</a>\u001b[0m         q_ij \u001b[39m=\u001b[39m q_00 \u001b[39m+\u001b[39m cena\u001b[39m.\u001b[39mtamanho_pixel \u001b[39m*\u001b[39m (j \u001b[39m*\u001b[39m u \u001b[39m-\u001b[39m i \u001b[39m*\u001b[39m v)\n\u001b[1;32m     <a href='vscode-notebook-cell:/home/costa/Documentos/Faculdade/PG-Projeto2/RT1.ipynb#X26sZmlsZQ%3D%3D?line=18'>19</a>\u001b[0m         dir_ray \u001b[39m=\u001b[39m (q_ij \u001b[39m-\u001b[39m cena\u001b[39m.\u001b[39mfoco) \u001b[39m/\u001b[39m np\u001b[39m.\u001b[39mlinalg\u001b[39m.\u001b[39mnorm(q_ij \u001b[39m-\u001b[39m cena\u001b[39m.\u001b[39mfoco)\n\u001b[0;32m---> <a href='vscode-notebook-cell:/home/costa/Documentos/Faculdade/PG-Projeto2/RT1.ipynb#X26sZmlsZQ%3D%3D?line=19'>20</a>\u001b[0m         image[i][j] \u001b[39m=\u001b[39m \u001b[39mself\u001b[39;49m\u001b[39m.\u001b[39;49mcast(cena, dir_ray, background_color)\n\u001b[1;32m     <a href='vscode-notebook-cell:/home/costa/Documentos/Faculdade/PG-Projeto2/RT1.ipynb#X26sZmlsZQ%3D%3D?line=20'>21</a>\u001b[0m \u001b[39mreturn\u001b[39;00m image\n",
      "\u001b[1;32m/home/costa/Documentos/Faculdade/PG-Projeto2/RT1.ipynb Cell 21\u001b[0m in \u001b[0;36mRenderEngine.cast\u001b[0;34m(self, cena, dir_ray, background_color)\u001b[0m\n\u001b[1;32m     <a href='vscode-notebook-cell:/home/costa/Documentos/Faculdade/PG-Projeto2/RT1.ipynb#X26sZmlsZQ%3D%3D?line=32'>33</a>\u001b[0m E \u001b[39m=\u001b[39m cena\u001b[39m.\u001b[39mfoco\n\u001b[1;32m     <a href='vscode-notebook-cell:/home/costa/Documentos/Faculdade/PG-Projeto2/RT1.ipynb#X26sZmlsZQ%3D%3D?line=33'>34</a>\u001b[0m c \u001b[39m=\u001b[39m background_color\n\u001b[0;32m---> <a href='vscode-notebook-cell:/home/costa/Documentos/Faculdade/PG-Projeto2/RT1.ipynb#X26sZmlsZQ%3D%3D?line=34'>35</a>\u001b[0m S \u001b[39m=\u001b[39m \u001b[39mself\u001b[39;49m\u001b[39m.\u001b[39;49mtrace(E, dir_ray, cena)\n\u001b[1;32m     <a href='vscode-notebook-cell:/home/costa/Documentos/Faculdade/PG-Projeto2/RT1.ipynb#X26sZmlsZQ%3D%3D?line=36'>37</a>\u001b[0m \u001b[39mif\u001b[39;00m S:\n\u001b[1;32m     <a href='vscode-notebook-cell:/home/costa/Documentos/Faculdade/PG-Projeto2/RT1.ipynb#X26sZmlsZQ%3D%3D?line=37'>38</a>\u001b[0m     closest_t \u001b[39m=\u001b[39m math\u001b[39m.\u001b[39minf\n",
      "\u001b[1;32m/home/costa/Documentos/Faculdade/PG-Projeto2/RT1.ipynb Cell 21\u001b[0m in \u001b[0;36mRenderEngine.trace\u001b[0;34m(self, E, dir_ray, cena)\u001b[0m\n\u001b[1;32m     <a href='vscode-notebook-cell:/home/costa/Documentos/Faculdade/PG-Projeto2/RT1.ipynb#X26sZmlsZQ%3D%3D?line=23'>24</a>\u001b[0m s \u001b[39m=\u001b[39m []\n\u001b[1;32m     <a href='vscode-notebook-cell:/home/costa/Documentos/Faculdade/PG-Projeto2/RT1.ipynb#X26sZmlsZQ%3D%3D?line=24'>25</a>\u001b[0m \u001b[39mfor\u001b[39;00m obj \u001b[39min\u001b[39;00m cena\u001b[39m.\u001b[39mobjetos:\n\u001b[0;32m---> <a href='vscode-notebook-cell:/home/costa/Documentos/Faculdade/PG-Projeto2/RT1.ipynb#X26sZmlsZQ%3D%3D?line=25'>26</a>\u001b[0m     t \u001b[39m=\u001b[39m obj\u001b[39m.\u001b[39;49mintersect(E, dir_ray)\n\u001b[1;32m     <a href='vscode-notebook-cell:/home/costa/Documentos/Faculdade/PG-Projeto2/RT1.ipynb#X26sZmlsZQ%3D%3D?line=26'>27</a>\u001b[0m     \u001b[39mif\u001b[39;00m t:\n\u001b[1;32m     <a href='vscode-notebook-cell:/home/costa/Documentos/Faculdade/PG-Projeto2/RT1.ipynb#X26sZmlsZQ%3D%3D?line=27'>28</a>\u001b[0m         s\u001b[39m.\u001b[39mappend((t, obj))\n",
      "\u001b[1;32m/home/costa/Documentos/Faculdade/PG-Projeto2/RT1.ipynb Cell 21\u001b[0m in \u001b[0;36mTriangulo.intersect\u001b[0;34m(self, ray_origin, ray_dir)\u001b[0m\n\u001b[1;32m     <a href='vscode-notebook-cell:/home/costa/Documentos/Faculdade/PG-Projeto2/RT1.ipynb#X26sZmlsZQ%3D%3D?line=44'>45</a>\u001b[0m vp0 \u001b[39m=\u001b[39m p \u001b[39m-\u001b[39m \u001b[39mself\u001b[39m\u001b[39m.\u001b[39mpositions[\u001b[39m0\u001b[39m]\n\u001b[1;32m     <a href='vscode-notebook-cell:/home/costa/Documentos/Faculdade/PG-Projeto2/RT1.ipynb#X26sZmlsZQ%3D%3D?line=45'>46</a>\u001b[0m c \u001b[39m=\u001b[39m np\u001b[39m.\u001b[39mcross(edge0, vp0)\n\u001b[0;32m---> <a href='vscode-notebook-cell:/home/costa/Documentos/Faculdade/PG-Projeto2/RT1.ipynb#X26sZmlsZQ%3D%3D?line=47'>48</a>\u001b[0m \u001b[39mif\u001b[39;00m np\u001b[39m.\u001b[39;49mdot(n, c) \u001b[39m<\u001b[39m \u001b[39m0\u001b[39m:\n\u001b[1;32m     <a href='vscode-notebook-cell:/home/costa/Documentos/Faculdade/PG-Projeto2/RT1.ipynb#X26sZmlsZQ%3D%3D?line=48'>49</a>\u001b[0m     \u001b[39mreturn\u001b[39;00m\n\u001b[1;32m     <a href='vscode-notebook-cell:/home/costa/Documentos/Faculdade/PG-Projeto2/RT1.ipynb#X26sZmlsZQ%3D%3D?line=50'>51</a>\u001b[0m edge1 \u001b[39m=\u001b[39m \u001b[39mself\u001b[39m\u001b[39m.\u001b[39mpositions[\u001b[39m2\u001b[39m] \u001b[39m-\u001b[39m \u001b[39mself\u001b[39m\u001b[39m.\u001b[39mpositions[\u001b[39m1\u001b[39m]\n",
      "\u001b[0;31mKeyboardInterrupt\u001b[0m: "
     ]
    }
   ],
   "source": [
    "# files = ['cone.json']\n",
    "\n",
    "files = ['canto.json', 'japao.json', 'olho.json', 'ucrania.json', 'cone.json']\n",
    "\n",
    "# Os objetos 'suzanne.json', 'icosaedro.json' levariam mais de 20h de processamento se somados\n",
    "# Isso inviabiliza o plot pois eu uso o computador para trabalho e outras atividades\n",
    "# Se houver uma máquina com maior processamento, podem utilizá-la para o plot\n",
    "\n",
    "# Leitura do arquivo scene_name dentro do caminho\n",
    "\n",
    "for filename in files:\n",
    "        start_loading(filename)"
   ]
  },
  {
   "cell_type": "markdown",
   "metadata": {},
   "source": [
    "Aqui fica a entrada, o monitor pode ficar livre para abrir o diretório \"primeira_versao/objetos\" e utilizar o nome de qualquer json como input da função **start_loading**"
   ]
  },
  {
   "cell_type": "code",
   "execution_count": null,
   "metadata": {},
   "outputs": [],
   "source": [
    "file = input(\"Digite o nome do arquivo sem o .json no final\")\n",
    "start_loading(f\"{file}.json\")"
   ]
  }
 ],
 "metadata": {
  "kernelspec": {
   "display_name": "Python 3.9.12 ('base')",
   "language": "python",
   "name": "python3"
  },
  "language_info": {
   "codemirror_mode": {
    "name": "ipython",
    "version": 3
   },
   "file_extension": ".py",
   "mimetype": "text/x-python",
   "name": "python",
   "nbconvert_exporter": "python",
   "pygments_lexer": "ipython3",
   "version": "3.9.12"
  },
  "orig_nbformat": 4,
  "vscode": {
   "interpreter": {
    "hash": "e2310a4f668ad4d9a269617f88e064245a14ac451bd9126bf46f84965ab74093"
   }
  }
 },
 "nbformat": 4,
 "nbformat_minor": 2
}
